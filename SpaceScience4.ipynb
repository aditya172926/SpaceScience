{
 "cells": [
  {
   "cell_type": "markdown",
   "id": "linear-tucson",
   "metadata": {},
   "source": [
    "# The Dance of Venus\n",
    "In this we are going see how to determine a perfect timing for a greate Venus and Moon photo.\n",
    "\n",
    "## Introduction\n",
    "Right after sunset, we may have seen a bright star in the sky that is visible for a few hours before it vanishes below the horizon. In a few days, it will be gone and reappear in the morning hours right before sunrise. The evening star becomes the morning star.\n",
    "\n",
    "This is not a star but the planet Venus. \n",
    "When are the Moon and Venus this close constellation? In the last couple weeks Venus was clearrly visible so how many opportunities did we have to see this constallation?\n",
    "\n",
    "We will reduce the underlying complexity of this problem to a few simple computations that will give us an easy answer to our question.\n",
    "\n",
    "## Let's Start\n",
    "What do we need to determine the points of time where Venus and Moon are close to each other?\n",
    "\n",
    "Well, we needd to compute the <b>phase angle</b> between the Moon and Venus as seen from our home planet Earth. The phase angle is the <b>angle that is enclosed be the two Earth -centric directional vectors that point to the Moon and to the Venus</b>.\n",
    "\n",
    "We will compute the <b>angular distance</b> between both the objects for a certain time period. During the time period, both objects move along the Sky with changing angular distances to the Sun. We also need to compute a minimum distance between <b>Sun - Venus</b> and <b>Sun - Moon</b>. Otherwise we might compute constellations wherer all 3 objects are too close.\n",
    "\n",
    "We will use only 2 kernel paths. de432s.bsp is required for the position computation of the celestial bodies and naif0012.tls is the kernel that contains temporal information like leap-seconds."
   ]
  },
  {
   "cell_type": "code",
   "execution_count": null,
   "id": "distant-pizza",
   "metadata": {},
   "outputs": [],
   "source": []
  }
 ],
 "metadata": {
  "kernelspec": {
   "display_name": "space",
   "language": "python",
   "name": "space"
  },
  "language_info": {
   "codemirror_mode": {
    "name": "ipython",
    "version": 3
   },
   "file_extension": ".py",
   "mimetype": "text/x-python",
   "name": "python",
   "nbconvert_exporter": "python",
   "pygments_lexer": "ipython3",
   "version": "3.8.6"
  }
 },
 "nbformat": 4,
 "nbformat_minor": 5
}
