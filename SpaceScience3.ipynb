{
 "cells": [
  {
   "cell_type": "code",
   "execution_count": 1,
   "id": "a4debcf8",
   "metadata": {},
   "outputs": [],
   "source": [
    "import datetime as dt\n",
    "import spiceypy as sp\n",
    "import numpy as np\n",
    "import pandas as pd"
   ]
  },
  {
   "cell_type": "code",
   "execution_count": 2,
   "id": "02faa58d",
   "metadata": {},
   "outputs": [],
   "source": [
    "sp.furnsh('_kernels/lsk/naif0012.tls')\n",
    "sp.furnsh('_kernels/spk/de440.bsp')\n",
    "sp.furnsh('_kernels/pck/pck00010.tpc')"
   ]
  },
  {
   "cell_type": "markdown",
   "id": "d1d8b841",
   "metadata": {},
   "source": [
    "Last time we computed and visualised the movement of the Solar System Barycentre (SSB) with respect to the Sun. A 2-dimensional projection on the Ecliptic plane revealed an impressive behaviour of the SSB. The barycentre's position leaves the Sun on a regular basis, although the Sun contains more than 99% of the Solar System's mass. One can understand that this movement is caused by the other celestial objects like planets, the asteroids and even the dust. But what are the main contributors and can we visualize it?\n",
    "\n",
    "For our analysis we will beed the same time interval and methods as shown last time. We will use additionally pandas.\n",
    "\n",
    "Again we choose the time interval starting at the 1st January 2000 and add 10,000 days. We convert the <b>UTC time</b> strings to the <b>Ephemeris time (ET)</b> with the function <i><b>utc2et</b></i> and create a <b>numpy array</b> that contains all the ET time steps.\n",
    "\n",
    "We want to compute the miscellaneous positions w.r.t. the centre of the Sun for a certain time interval"
   ]
  },
  {
   "cell_type": "code",
   "execution_count": 3,
   "id": "235f4280",
   "metadata": {},
   "outputs": [
    {
     "name": "stdout",
     "output_type": "stream",
     "text": [
      "Init time in UTC: 2000-01-01T00:00:00\n",
      "End time in UTC: 2027-05-19T00:00:00\n",
      "\n"
     ]
    }
   ],
   "source": [
    "import datetime as dt\n",
    "import spiceypy as sp\n",
    "import numpy as np\n",
    "import pandas as pd\n",
    "\n",
    "# We want to compute the miscellaneous positions w.r.t. the centre\n",
    "# of the Sun for a certain time interval\n",
    "# First, we set an initial time in UTC.\n",
    "INIT_TIME_UTC = dt.datetime(year=2000, month=1, day=1, hour=0, minute=0, second=0)\n",
    "\n",
    "# Add a number of days: you can play with this\n",
    "DELTA_DAYS=10000\n",
    "END_TIME_UTC = INIT_TIME_UTC + dt.timedelta(days=DELTA_DAYS)\n",
    "\n",
    "# Convert the datetime objects now to strings\n",
    "INIT_TIME_UTC_STR = INIT_TIME_UTC.strftime('%Y-%m-%dT%H:%M:%S')\n",
    "END_TIME_UTC_STR = END_TIME_UTC.strftime('%Y-%m-%dT%H:%M:%S')\n",
    "\n",
    "# print the starting and end times\n",
    "print('Init time in UTC: %s' % INIT_TIME_UTC_STR)\n",
    "print('End time in UTC: %s\\n' % END_TIME_UTC_STR)\n",
    "\n",
    "# Convert to Ephemeris Time (ET) using the SPICE function utc2et\n",
    "INIT_TIME_ET = sp.utc2et(INIT_TIME_UTC_STR)\n",
    "END_TIME_ET = sp.utc2et(END_TIME_UTC_STR)\n",
    "\n",
    "# Create a numpy array that covers a time interval in delta = 1 day step\n",
    "TIME_INTERVAL_ET = np.linspace(INIT_TIME_ET, END_TIME_ET, DELTA_DAYS)"
   ]
  },
  {
   "cell_type": "code",
   "execution_count": 4,
   "id": "5ab94876",
   "metadata": {},
   "outputs": [
    {
     "data": {
      "text/plain": [
       "10000"
      ]
     },
     "execution_count": 4,
     "metadata": {},
     "output_type": "execute_result"
    }
   ],
   "source": [
    "len(TIME_INTERVAL_ET)"
   ]
  },
  {
   "cell_type": "markdown",
   "id": "32e370a9",
   "metadata": {},
   "source": [
    "How should we proceed now with the analysis of the SSB's movement? Well first of all, we need to compute the trajectory of the barycentre with respect to the Sun. Last time we did this using a for-loop, now we will use pandas DataFrame to store all the necessary results in one place.\n",
    "\n",
    "SPICE returns the spatial information in km. Again we want to scale it with Syn's radius. We extract this information from the kernel with the function <b><u><i>bodvcd</i></u></b>.\n",
    "\n",
    "Using <b>km</b> is not intuitive. <b>AU</b> would scale it too severely. Since we compute the Solar System Barycentre (SSB) w.r.t. the Sun and since we expect it to be close to the Sun, we scale the <u>x,y,z component w.r.t. the radius of the Sun</u>. We extract the Sun radii (x,y,z components of the Sun ellipsoid) and use the x component."
   ]
  },
  {
   "cell_type": "code",
   "execution_count": 5,
   "id": "efe5a552",
   "metadata": {},
   "outputs": [],
   "source": [
    "# Using km is not intuitive. AU would scale it too severely. \n",
    "# Since we compute the Solar System Barycentre (SSB) w.r.t. the \n",
    "# Sun and since we expect it to be close to the Sun, we scale \n",
    "# the x,y,z component w.r.t. the radius of the Sun. \n",
    "# We extract the Sun radii (x,y,z components of the Sun ellipsoid)\n",
    "# and use the x component.\n",
    "\n",
    "_, RADII_SUN = sp.bodvcd(bodyid=10, item='RADII', maxn=3)\n",
    "RADIUS_SUN = RADII_SUN[0]\n",
    "\n"
   ]
  },
  {
   "cell_type": "markdown",
   "id": "5784bcb7",
   "metadata": {},
   "source": [
    "The results will be stored in a SOLAR_SYSTEM_DF."
   ]
  },
  {
   "cell_type": "code",
   "execution_count": 6,
   "id": "1c5309a7",
   "metadata": {},
   "outputs": [],
   "source": [
    "# All our parameters, positions etc. shall be stored in a df.\n",
    "SOLAR_SYSTEM_DF = pd.DataFrame()\n",
    "\n",
    "# Set the column ET that stores all ETs\n",
    "SOLAR_SYSTEM_DF.loc[:, 'ET'] = TIME_INTERVAL_ET\n",
    "\n",
    "# The column UTC transforms all ETs back to UTC format. \n",
    "# The function sp.et2datetime is not official part of the SPICE\n",
    "# There it is et2utc. However the function returns immediately a datetime\n",
    "# object.\n",
    "\n",
    "SOLAR_SYSTEM_DF.loc[:, 'UTC'] = SOLAR_SYSTEM_DF['ET'].apply(lambda x: sp.et2datetime(et=x).date())"
   ]
  },
  {
   "cell_type": "code",
   "execution_count": 7,
   "id": "482df41c",
   "metadata": {},
   "outputs": [
    {
     "data": {
      "text/html": [
       "<div>\n",
       "<style scoped>\n",
       "    .dataframe tbody tr th:only-of-type {\n",
       "        vertical-align: middle;\n",
       "    }\n",
       "\n",
       "    .dataframe tbody tr th {\n",
       "        vertical-align: top;\n",
       "    }\n",
       "\n",
       "    .dataframe thead th {\n",
       "        text-align: right;\n",
       "    }\n",
       "</style>\n",
       "<table border=\"1\" class=\"dataframe\">\n",
       "  <thead>\n",
       "    <tr style=\"text-align: right;\">\n",
       "      <th></th>\n",
       "      <th>ET</th>\n",
       "      <th>UTC</th>\n",
       "    </tr>\n",
       "  </thead>\n",
       "  <tbody>\n",
       "    <tr>\n",
       "      <th>0</th>\n",
       "      <td>-43135.816087</td>\n",
       "      <td>2000-01-01</td>\n",
       "    </tr>\n",
       "    <tr>\n",
       "      <th>1</th>\n",
       "      <td>43272.825277</td>\n",
       "      <td>2000-01-02</td>\n",
       "    </tr>\n",
       "    <tr>\n",
       "      <th>2</th>\n",
       "      <td>129681.466641</td>\n",
       "      <td>2000-01-03</td>\n",
       "    </tr>\n",
       "    <tr>\n",
       "      <th>3</th>\n",
       "      <td>216090.108006</td>\n",
       "      <td>2000-01-04</td>\n",
       "    </tr>\n",
       "    <tr>\n",
       "      <th>4</th>\n",
       "      <td>302498.749370</td>\n",
       "      <td>2000-01-05</td>\n",
       "    </tr>\n",
       "  </tbody>\n",
       "</table>\n",
       "</div>"
      ],
      "text/plain": [
       "              ET         UTC\n",
       "0  -43135.816087  2000-01-01\n",
       "1   43272.825277  2000-01-02\n",
       "2  129681.466641  2000-01-03\n",
       "3  216090.108006  2000-01-04\n",
       "4  302498.749370  2000-01-05"
      ]
     },
     "execution_count": 7,
     "metadata": {},
     "output_type": "execute_result"
    }
   ],
   "source": [
    "SOLAR_SYSTEM_DF.head()"
   ]
  },
  {
   "cell_type": "markdown",
   "id": "b1019d97",
   "metadata": {},
   "source": [
    "We add and compute 3 new columns. First POS_SSB_WRT_SUN is computed that contains the position vector of the SSB as seen from the Sun. For this computation we need the ET column and apply row-wise (using <b>.apply()</b>) the SPICE function <b><i><u>spkgps</u></i></b> via a lambda function. <b><i><u>spkgps</u></i></b> requires the target NAIF ID (targ), the ET (et), the reference frame (ref: here it is the Ecliptic reference frame <b>ECLIPJ2000</b>) and the observer's NAIF ID (obs). The ID for the <u>SSB and Sun is 0 and 10</u> respectively.\n",
    "\n",
    "The computed position vectors are then scaled with the Sun's radius. We apply the row-wise lambda function that divides the arrays by the radius.\n",
    "\n",
    "Finally the distance between the Sun and the SSB is computed, using the SPICE function <b><i><u>vnorm</u></i></b>. The function compues the length (so-called norm) of a vector and is identical to the numpy function <i>numpy.linalg.norm()</i>."
   ]
  },
  {
   "cell_type": "code",
   "execution_count": 8,
   "id": "7a7c1e2b",
   "metadata": {},
   "outputs": [],
   "source": [
    "# Here the position of the SSB, as seen fromthe Sun is computed.\n",
    "# Since sp.spkgps returns the position and the corresponding light time,\n",
    "# we add the index [0] to obtain only the position array.\n",
    "\n",
    "SOLAR_SYSTEM_DF.loc[:, 'POS_SSB_WRT_SUN'] = SOLAR_SYSTEM_DF['ET'].apply(lambda x: sp.spkgps(targ=0, et=x, ref='ECLIPJ2000', obs=10)[0])\n",
    "\n",
    "# Finally the distance between the Sun and the SSB is computed\n",
    "SOLAR_SYSTEM_DF.loc[:, 'POS_SSB_WRT_SUN_SCALED'] = SOLAR_SYSTEM_DF['POS_SSB_WRT_SUN'].apply(lambda x: x / RADIUS_SUN)\n",
    "\n",
    "# Finally the distance between the Sun and the SSB is computed. The length\n",
    "# (norm) of the vector needs to be determined with the SPICE function\n",
    "# vnorm(). numpy provides an identical function in numpy.linalg.norm()\n",
    "SOLAR_SYSTEM_DF.loc[:, 'SSB_WRT_SUN_SCALED_DIST'] = SOLAR_SYSTEM_DF['POS_SSB_WRT_SUN_SCALED'].apply(lambda x: sp.vnorm(x))"
   ]
  },
  {
   "cell_type": "code",
   "execution_count": 9,
   "id": "bf6a1921",
   "metadata": {},
   "outputs": [
    {
     "data": {
      "text/html": [
       "<div>\n",
       "<style scoped>\n",
       "    .dataframe tbody tr th:only-of-type {\n",
       "        vertical-align: middle;\n",
       "    }\n",
       "\n",
       "    .dataframe tbody tr th {\n",
       "        vertical-align: top;\n",
       "    }\n",
       "\n",
       "    .dataframe thead th {\n",
       "        text-align: right;\n",
       "    }\n",
       "</style>\n",
       "<table border=\"1\" class=\"dataframe\">\n",
       "  <thead>\n",
       "    <tr style=\"text-align: right;\">\n",
       "      <th></th>\n",
       "      <th>ET</th>\n",
       "      <th>UTC</th>\n",
       "      <th>POS_SSB_WRT_SUN</th>\n",
       "      <th>POS_SSB_WRT_SUN_SCALED</th>\n",
       "      <th>SSB_WRT_SUN_SCALED_DIST</th>\n",
       "    </tr>\n",
       "  </thead>\n",
       "  <tbody>\n",
       "    <tr>\n",
       "      <th>0</th>\n",
       "      <td>-43135.816087</td>\n",
       "      <td>2000-01-01</td>\n",
       "      <td>[1068108.3542452406, 417721.91444219963, -3086...</td>\n",
       "      <td>[1.5346384400075295, 0.6001751644284478, -0.04...</td>\n",
       "      <td>1.648421</td>\n",
       "    </tr>\n",
       "    <tr>\n",
       "      <th>1</th>\n",
       "      <td>43272.825277</td>\n",
       "      <td>2000-01-02</td>\n",
       "      <td>[1067303.666657607, 418830.0833823817, -30854....</td>\n",
       "      <td>[1.53348227968047, 0.6017673611815829, -0.0443...</td>\n",
       "      <td>1.647925</td>\n",
       "    </tr>\n",
       "    <tr>\n",
       "      <th>2</th>\n",
       "      <td>129681.466641</td>\n",
       "      <td>2000-01-03</td>\n",
       "      <td>[1066497.7243846857, 419937.0428411623, -30840...</td>\n",
       "      <td>[1.5323243166446634, 0.6033578201740838, -0.04...</td>\n",
       "      <td>1.647429</td>\n",
       "    </tr>\n",
       "    <tr>\n",
       "      <th>3</th>\n",
       "      <td>216090.108006</td>\n",
       "      <td>2000-01-04</td>\n",
       "      <td>[1065690.5295479323, 421042.79723565804, -3082...</td>\n",
       "      <td>[1.5311645539481786, 0.6049465477523822, -0.04...</td>\n",
       "      <td>1.646933</td>\n",
       "    </tr>\n",
       "    <tr>\n",
       "      <th>4</th>\n",
       "      <td>302498.749370</td>\n",
       "      <td>2000-01-05</td>\n",
       "      <td>[1064882.0840889374, 422147.350974351, -30812....</td>\n",
       "      <td>[1.5300029943806572, 0.6065335502505043, -0.04...</td>\n",
       "      <td>1.646436</td>\n",
       "    </tr>\n",
       "  </tbody>\n",
       "</table>\n",
       "</div>"
      ],
      "text/plain": [
       "              ET         UTC  \\\n",
       "0  -43135.816087  2000-01-01   \n",
       "1   43272.825277  2000-01-02   \n",
       "2  129681.466641  2000-01-03   \n",
       "3  216090.108006  2000-01-04   \n",
       "4  302498.749370  2000-01-05   \n",
       "\n",
       "                                     POS_SSB_WRT_SUN  \\\n",
       "0  [1068108.3542452406, 417721.91444219963, -3086...   \n",
       "1  [1067303.666657607, 418830.0833823817, -30854....   \n",
       "2  [1066497.7243846857, 419937.0428411623, -30840...   \n",
       "3  [1065690.5295479323, 421042.79723565804, -3082...   \n",
       "4  [1064882.0840889374, 422147.350974351, -30812....   \n",
       "\n",
       "                              POS_SSB_WRT_SUN_SCALED  SSB_WRT_SUN_SCALED_DIST  \n",
       "0  [1.5346384400075295, 0.6001751644284478, -0.04...                 1.648421  \n",
       "1  [1.53348227968047, 0.6017673611815829, -0.0443...                 1.647925  \n",
       "2  [1.5323243166446634, 0.6033578201740838, -0.04...                 1.647429  \n",
       "3  [1.5311645539481786, 0.6049465477523822, -0.04...                 1.646933  \n",
       "4  [1.5300029943806572, 0.6065335502505043, -0.04...                 1.646436  "
      ]
     },
     "execution_count": 9,
     "metadata": {},
     "output_type": "execute_result"
    }
   ],
   "source": [
    "SOLAR_SYSTEM_DF.head()"
   ]
  },
  {
   "cell_type": "markdown",
   "id": "2c50147e",
   "metadata": {},
   "source": [
    "Whether it is data science, space science, astronomy or any other scientific field, visualizing and describing data is the first step of a proper analysis.\n",
    "\n",
    "So let’s visualise the distance between the SSB and the Sun as a function of time. For this purpose we use the module matplotlib, as introduced last time. We use the data of the column SSB_WRT_SUN_SCALED_DIST and plot it against the UTC date-time."
   ]
  },
  {
   "cell_type": "code",
   "execution_count": null,
   "id": "1c2670f6",
   "metadata": {},
   "outputs": [],
   "source": []
  }
 ],
 "metadata": {
  "kernelspec": {
   "display_name": "space",
   "language": "python",
   "name": "space"
  },
  "language_info": {
   "codemirror_mode": {
    "name": "ipython",
    "version": 3
   },
   "file_extension": ".py",
   "mimetype": "text/x-python",
   "name": "python",
   "nbconvert_exporter": "python",
   "pygments_lexer": "ipython3",
   "version": "3.9.4"
  }
 },
 "nbformat": 4,
 "nbformat_minor": 5
}
