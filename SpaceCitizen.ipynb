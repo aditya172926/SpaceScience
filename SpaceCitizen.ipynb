{
 "cells": [
  {
   "cell_type": "markdown",
   "id": "21f555cc",
   "metadata": {},
   "source": [
    "# First Steps\n",
    "Our goal for today is to compute the <b>Earth's position</b> and <b>velocity vector</b> (so-called <u>state vector</u>) for today midnight. Further we compare the orbital speed of our home planet with the theoritical expectation.\n",
    "\n",
    "Out of the box, SPICE cannot calculate a lot. It requires auxiliary data, so-called kernels to work properly. These kernels are separated into different categories, like:\n",
    "\n",
    "1. spk: contain <b>trajectory information</b> of planetary bodies, spacecraft, etc.\n",
    "2. pck: contain <b>physical parameters</b> of bodies like the size or orientation\n",
    "3. ik: contain <b>instrument-specific information</b> that are e.g., mounted on a spacecraft\n",
    "4. ck: contain information regarding the <b>orientation</b> of a spacecraft in space\n",
    "5. fk: contain <b>reference frame information</b> that is needed to calculate positions in a less common reference system\n",
    "6. lsk: contain time information that is crucial to <b>convert or conversions</b> of e.g., the UTC time into ephemeris time ET (a standard time format that is being used in space science and astronomy)"
   ]
  },
  {
   "cell_type": "code",
   "execution_count": 2,
   "id": "b53018aa",
   "metadata": {},
   "outputs": [],
   "source": [
    "import spiceypy as sp"
   ]
  },
  {
   "cell_type": "markdown",
   "id": "5ad328e2",
   "metadata": {},
   "source": [
    "We want to determine the position of Earth with respect to Sun. Look at the reference guide of SPICE in SPICE Docs: https://naif.jpl.nasa.gov/pub/naif/toolkit_docs/C/cspice/index.html\n",
    "\n",
    "What we need is the function <b>spkgeo</b> (Please note: this is the documentation of the C library, thus every function name has the _C suffix that needs to be removed for Python)\n",
    "\n",
    "The documentation says:<br>\n",
    "Abstract-<br>\n",
    "Compute the <b>geometric state</b> (position and velocity) of a <b>target</b> body <b>relative</b> to an <b>observing</b> body.\n",
    "That’s what we need. The input parameters are the <u>target body (Earth)</u>, the ET, the reference frame and the <u>observer (Sun)</u>.\n",
    "\n",
    "So in a first step, we need to convert a UTC string to the ET. We use the function utc2et for this purpose: https://naif.jpl.nasa.gov/pub/naif/toolkit_docs/C/cspice/utc2et_c.html\n",
    "\n",
    "We determine today’s date and create a string of the format year-month-day-hours:minutes:seconds. The documentation of the utc2et function provides all possible time formats in the section Examples. Although it is not required to explicitly write 00:00:00 for midnight, we do it for the sake of completeness (Spoiler: the following code snippet causes an error!):"
   ]
  },
  {
   "cell_type": "code",
   "execution_count": 3,
   "id": "cb21a4f8",
   "metadata": {
    "scrolled": true
   },
   "outputs": [
    {
     "ename": "SpiceNOLEAPSECONDS",
     "evalue": "\n================================================================================\n\nToolkit version: CSPICE66\n\nSPICE(NOLEAPSECONDS) --\n\nThe variable that points to the leapseconds (DELTET/DELTA_AT) could not be located in the kernel pool.  It is likely that the leapseconds kernel has not been loaded via the routine FURNSH.\n\nutc2et_c --> UTC2ET --> TTRANS\n\n================================================================================",
     "output_type": "error",
     "traceback": [
      "\u001b[0;31m---------------------------------------------------------------------------\u001b[0m",
      "\u001b[0;31mSpiceNOLEAPSECONDS\u001b[0m                        Traceback (most recent call last)",
      "\u001b[0;32m/var/folders/vt/vd__1pbs7tnggvkzcw43gzl00000gp/T/ipykernel_1507/3547037182.py\u001b[0m in \u001b[0;36m<module>\u001b[0;34m\u001b[0m\n\u001b[1;32m     13\u001b[0m \u001b[0;34m\u001b[0m\u001b[0m\n\u001b[1;32m     14\u001b[0m \u001b[0;31m# convert the utc midnight string to the corresponding ET\u001b[0m\u001b[0;34m\u001b[0m\u001b[0;34m\u001b[0m\u001b[0;34m\u001b[0m\u001b[0m\n\u001b[0;32m---> 15\u001b[0;31m \u001b[0mET_TODAY_MIDNIGHT\u001b[0m \u001b[0;34m=\u001b[0m \u001b[0msp\u001b[0m\u001b[0;34m.\u001b[0m\u001b[0mutc2et\u001b[0m\u001b[0;34m(\u001b[0m\u001b[0mDATE_TODAY\u001b[0m\u001b[0;34m)\u001b[0m\u001b[0;34m\u001b[0m\u001b[0;34m\u001b[0m\u001b[0m\n\u001b[0m",
      "\u001b[0;32m~/Desktop/projects/space_project/space/lib/python3.9/site-packages/spiceypy/spiceypy.py\u001b[0m in \u001b[0;36mwith_errcheck\u001b[0;34m(*args, **kwargs)\u001b[0m\n\u001b[1;32m    122\u001b[0m         \u001b[0;32mtry\u001b[0m\u001b[0;34m:\u001b[0m\u001b[0;34m\u001b[0m\u001b[0;34m\u001b[0m\u001b[0m\n\u001b[1;32m    123\u001b[0m             \u001b[0mres\u001b[0m \u001b[0;34m=\u001b[0m \u001b[0mf\u001b[0m\u001b[0;34m(\u001b[0m\u001b[0;34m*\u001b[0m\u001b[0margs\u001b[0m\u001b[0;34m,\u001b[0m \u001b[0;34m**\u001b[0m\u001b[0mkwargs\u001b[0m\u001b[0;34m)\u001b[0m\u001b[0;34m\u001b[0m\u001b[0;34m\u001b[0m\u001b[0m\n\u001b[0;32m--> 124\u001b[0;31m             \u001b[0mcheck_for_spice_error\u001b[0m\u001b[0;34m(\u001b[0m\u001b[0mf\u001b[0m\u001b[0;34m)\u001b[0m\u001b[0;34m\u001b[0m\u001b[0;34m\u001b[0m\u001b[0m\n\u001b[0m\u001b[1;32m    125\u001b[0m             \u001b[0;32mreturn\u001b[0m \u001b[0mres\u001b[0m\u001b[0;34m\u001b[0m\u001b[0;34m\u001b[0m\u001b[0m\n\u001b[1;32m    126\u001b[0m         \u001b[0;32mexcept\u001b[0m \u001b[0mBaseException\u001b[0m\u001b[0;34m:\u001b[0m\u001b[0;34m\u001b[0m\u001b[0;34m\u001b[0m\u001b[0m\n",
      "\u001b[0;32m~/Desktop/projects/space_project/space/lib/python3.9/site-packages/spiceypy/spiceypy.py\u001b[0m in \u001b[0;36mcheck_for_spice_error\u001b[0;34m(f)\u001b[0m\n\u001b[1;32m    105\u001b[0m         \u001b[0mtraceback\u001b[0m \u001b[0;34m=\u001b[0m \u001b[0mqcktrc\u001b[0m\u001b[0;34m(\u001b[0m\u001b[0;36m200\u001b[0m\u001b[0;34m)\u001b[0m\u001b[0;34m\u001b[0m\u001b[0;34m\u001b[0m\u001b[0m\n\u001b[1;32m    106\u001b[0m         \u001b[0mreset\u001b[0m\u001b[0;34m(\u001b[0m\u001b[0;34m)\u001b[0m\u001b[0;34m\u001b[0m\u001b[0;34m\u001b[0m\u001b[0m\n\u001b[0;32m--> 107\u001b[0;31m         raise stypes.dynamically_instantiate_spiceyerror(\n\u001b[0m\u001b[1;32m    108\u001b[0m             \u001b[0mshort\u001b[0m\u001b[0;34m=\u001b[0m\u001b[0mshort\u001b[0m\u001b[0;34m,\u001b[0m \u001b[0mexplain\u001b[0m\u001b[0;34m=\u001b[0m\u001b[0mexplain\u001b[0m\u001b[0;34m,\u001b[0m \u001b[0mlong\u001b[0m\u001b[0;34m=\u001b[0m\u001b[0mlong\u001b[0m\u001b[0;34m,\u001b[0m \u001b[0mtraceback\u001b[0m\u001b[0;34m=\u001b[0m\u001b[0mtraceback\u001b[0m\u001b[0;34m\u001b[0m\u001b[0;34m\u001b[0m\u001b[0m\n\u001b[1;32m    109\u001b[0m         )\n",
      "\u001b[0;31mSpiceNOLEAPSECONDS\u001b[0m: \n================================================================================\n\nToolkit version: CSPICE66\n\nSPICE(NOLEAPSECONDS) --\n\nThe variable that points to the leapseconds (DELTET/DELTA_AT) could not be located in the kernel pool.  It is likely that the leapseconds kernel has not been loaded via the routine FURNSH.\n\nutc2et_c --> UTC2ET --> TTRANS\n\n================================================================================"
     ]
    }
   ],
   "source": [
    "# We want to determine the position of our home planet with respect to the\n",
    "# Sun.\n",
    "# The datetime shall be set as \"today\" (midnight). SPICE requires the\n",
    "# Ephemeris Time (ET); thus, we need to convert a UTC datetime string to ET.\n",
    "\n",
    "import datetime\n",
    "\n",
    "#get today's date\n",
    "DATE_TODAY = datetime.datetime.today()\n",
    "\n",
    "# convert the datetime to a string, replacing the time with midnight\n",
    "DATE_TODAY = DATE_TODAY.strftime('%Y-%m-%dT00:00:00')\n",
    "\n",
    "# convert the utc midnight string to the corresponding ET\n",
    "ET_TODAY_MIDNIGHT = sp.utc2et(DATE_TODAY)\n"
   ]
  },
  {
   "cell_type": "markdown",
   "id": "fded456c",
   "metadata": {},
   "source": [
    "An error occurred. Why? As mentioned before, most information is stored in the <b>kernel files</b>. Here, we <u>cannot convert between the times, because of a <b>missing lsk</b></u>. The tutorial repository contains the needed file <b>(naif0012.tls)</b> and can be found in the official repository here: SPICE lsk kernels. The kernel is loaded with the SPICE function furnsh."
   ]
  },
  {
   "cell_type": "code",
   "execution_count": 4,
   "id": "866e3b9e",
   "metadata": {},
   "outputs": [],
   "source": [
    "# oh... an error occurred. The error tells us that a so called \"kernel\" is\n",
    "# missing. These kernels store all information that are required for time\n",
    "# conversion, pointing, position determination etc. For this tutorial the Git\n",
    "# repository contains already the necessary kernel. We need to load it first\n",
    "\n",
    "sp.furnsh('SpaceScienceTutorial/_kernels/lsk/naif0012.tls')\n"
   ]
  },
  {
   "cell_type": "code",
   "execution_count": 5,
   "id": "ce971904",
   "metadata": {},
   "outputs": [],
   "source": [
    "# Let's re-try our first time conversion command\n",
    "ET_TODAY_MIDNIGHT = spiceypy.utc2et(DATE_TODAY)"
   ]
  },
  {
   "cell_type": "code",
   "execution_count": 6,
   "id": "c7611f90",
   "metadata": {},
   "outputs": [
    {
     "name": "stdout",
     "output_type": "stream",
     "text": [
      "681825669.1830535\n"
     ]
    }
   ],
   "source": [
    "print(ET_TODAY_MIDNIGHT)"
   ]
  },
  {
   "cell_type": "markdown",
   "id": "1d5b4d9f",
   "metadata": {},
   "source": [
    "Now let’s try the command spkgeo that shall compute the Earth’s state vector. But what are the target’s and observer’s name? Apparently “Earth” and “Sun”; however, SPICE uses the so-called NAIF IDs to identify an object. The complete list can be found here: https://naif.jpl.nasa.gov/pub/naif/toolkit_docs/C/req/naif_ids.html\n",
    "\n",
    "Search for the number <b>399</b>. That’s the Earth! And the Sun has the number <b>10</b>. The <b>reference frame</b> is set as <b>“ECLIPJ2000”</b> and refers to the <b>ecliptic reference frame</b> at the time <b>J2000</b> (no kernel needed for this basic frame). <u>Imagine a table</u> and at the <b>centre</b> of the table, you put something that represents the <b>Sun</b>. Use another object representing the Earth and circle it around the Sun. The <b>table</b> is the so-called <b>“Ecliptic Plane”</b> of our planet. <u>Other planets have their own plane</u> and are <u>slightly inclined</u> with respect to the Earth’s plane. Why J2000? Astronomers set the plane for our planet at a certain time of the year 2000. Due to gravitational perturbations, our current “2020 plane” is very, very slightly inclined with respect to the J2000 plane. Instead of re-defining it every year, we use the 2000-version (Spoiler: another error appears here (the last one, I promise!)):\n",
    "\n",
    "Can we compute now the position and velocity (so called state) of the Earth with respect to the Sun? We use the following function to determine the state vector and the so called light time (travel time of the light between the Sun and our home planet). Positions are always given in km, velocities in km/s and times in seconds.\n",
    "\n",
    "1. targ : Object that shall be pointed at\n",
    "2. et : The ET of the computation\n",
    "3. ref : The reference frame. Here, it is ECLIPJ2000 (so Medium article)\n",
    "4. obs :  The observer respectively the center of our state vector computation"
   ]
  },
  {
   "cell_type": "code",
   "execution_count": 7,
   "id": "1342acef",
   "metadata": {},
   "outputs": [
    {
     "ename": "SpiceNOLOADEDFILES",
     "evalue": "\n================================================================================\n\nToolkit version: CSPICE66\n\nSPICE(NOLOADEDFILES) --\n\nAt least one SPK file needs to be loaded by SPKLEF before beginning a search.\n\nspkgeo_c --> SPKGEO --> SPKSFS\n\n================================================================================",
     "output_type": "error",
     "traceback": [
      "\u001b[0;31m---------------------------------------------------------------------------\u001b[0m",
      "\u001b[0;31mSpiceNOLOADEDFILES\u001b[0m                        Traceback (most recent call last)",
      "\u001b[0;32m/var/folders/vt/vd__1pbs7tnggvkzcw43gzl00000gp/T/ipykernel_1507/3877492628.py\u001b[0m in \u001b[0;36m<module>\u001b[0;34m\u001b[0m\n\u001b[1;32m      9\u001b[0m \u001b[0;31m# ref : The reference frame. Here, it is ECLIPJ2000 (so Medium article)\u001b[0m\u001b[0;34m\u001b[0m\u001b[0;34m\u001b[0m\u001b[0;34m\u001b[0m\u001b[0m\n\u001b[1;32m     10\u001b[0m \u001b[0;31m# obs :  The observer respectively the center of our state vector computation\u001b[0m\u001b[0;34m\u001b[0m\u001b[0;34m\u001b[0m\u001b[0;34m\u001b[0m\u001b[0m\n\u001b[0;32m---> 11\u001b[0;31m EARTH_STATE_WRT_SUN, EARTH_SUN_LT = sp.spkgeo(targ=399,\n\u001b[0m\u001b[1;32m     12\u001b[0m                                               \u001b[0met\u001b[0m\u001b[0;34m=\u001b[0m\u001b[0mET_TODAY_MIDNIGHT\u001b[0m\u001b[0;34m,\u001b[0m\u001b[0;34m\u001b[0m\u001b[0;34m\u001b[0m\u001b[0m\n\u001b[1;32m     13\u001b[0m                                               \u001b[0mref\u001b[0m\u001b[0;34m=\u001b[0m\u001b[0;34m'ECLIPJ2000'\u001b[0m\u001b[0;34m,\u001b[0m\u001b[0;34m\u001b[0m\u001b[0;34m\u001b[0m\u001b[0m\n",
      "\u001b[0;32m~/Desktop/projects/space_project/space/lib/python3.9/site-packages/spiceypy/spiceypy.py\u001b[0m in \u001b[0;36mwith_errcheck\u001b[0;34m(*args, **kwargs)\u001b[0m\n\u001b[1;32m    122\u001b[0m         \u001b[0;32mtry\u001b[0m\u001b[0;34m:\u001b[0m\u001b[0;34m\u001b[0m\u001b[0;34m\u001b[0m\u001b[0m\n\u001b[1;32m    123\u001b[0m             \u001b[0mres\u001b[0m \u001b[0;34m=\u001b[0m \u001b[0mf\u001b[0m\u001b[0;34m(\u001b[0m\u001b[0;34m*\u001b[0m\u001b[0margs\u001b[0m\u001b[0;34m,\u001b[0m \u001b[0;34m**\u001b[0m\u001b[0mkwargs\u001b[0m\u001b[0;34m)\u001b[0m\u001b[0;34m\u001b[0m\u001b[0;34m\u001b[0m\u001b[0m\n\u001b[0;32m--> 124\u001b[0;31m             \u001b[0mcheck_for_spice_error\u001b[0m\u001b[0;34m(\u001b[0m\u001b[0mf\u001b[0m\u001b[0;34m)\u001b[0m\u001b[0;34m\u001b[0m\u001b[0;34m\u001b[0m\u001b[0m\n\u001b[0m\u001b[1;32m    125\u001b[0m             \u001b[0;32mreturn\u001b[0m \u001b[0mres\u001b[0m\u001b[0;34m\u001b[0m\u001b[0;34m\u001b[0m\u001b[0m\n\u001b[1;32m    126\u001b[0m         \u001b[0;32mexcept\u001b[0m \u001b[0mBaseException\u001b[0m\u001b[0;34m:\u001b[0m\u001b[0;34m\u001b[0m\u001b[0;34m\u001b[0m\u001b[0m\n",
      "\u001b[0;32m~/Desktop/projects/space_project/space/lib/python3.9/site-packages/spiceypy/spiceypy.py\u001b[0m in \u001b[0;36mcheck_for_spice_error\u001b[0;34m(f)\u001b[0m\n\u001b[1;32m    105\u001b[0m         \u001b[0mtraceback\u001b[0m \u001b[0;34m=\u001b[0m \u001b[0mqcktrc\u001b[0m\u001b[0;34m(\u001b[0m\u001b[0;36m200\u001b[0m\u001b[0;34m)\u001b[0m\u001b[0;34m\u001b[0m\u001b[0;34m\u001b[0m\u001b[0m\n\u001b[1;32m    106\u001b[0m         \u001b[0mreset\u001b[0m\u001b[0;34m(\u001b[0m\u001b[0;34m)\u001b[0m\u001b[0;34m\u001b[0m\u001b[0;34m\u001b[0m\u001b[0m\n\u001b[0;32m--> 107\u001b[0;31m         raise stypes.dynamically_instantiate_spiceyerror(\n\u001b[0m\u001b[1;32m    108\u001b[0m             \u001b[0mshort\u001b[0m\u001b[0;34m=\u001b[0m\u001b[0mshort\u001b[0m\u001b[0;34m,\u001b[0m \u001b[0mexplain\u001b[0m\u001b[0;34m=\u001b[0m\u001b[0mexplain\u001b[0m\u001b[0;34m,\u001b[0m \u001b[0mlong\u001b[0m\u001b[0;34m=\u001b[0m\u001b[0mlong\u001b[0m\u001b[0;34m,\u001b[0m \u001b[0mtraceback\u001b[0m\u001b[0;34m=\u001b[0m\u001b[0mtraceback\u001b[0m\u001b[0;34m\u001b[0m\u001b[0;34m\u001b[0m\u001b[0m\n\u001b[1;32m    109\u001b[0m         )\n",
      "\u001b[0;31mSpiceNOLOADEDFILES\u001b[0m: \n================================================================================\n\nToolkit version: CSPICE66\n\nSPICE(NOLOADEDFILES) --\n\nAt least one SPK file needs to be loaded by SPKLEF before beginning a search.\n\nspkgeo_c --> SPKGEO --> SPKSFS\n\n================================================================================"
     ]
    }
   ],
   "source": [
    "# Can we compute now the position and velocity (so called state) of the Earth\n",
    "# with respect to the Sun? We use the following function to determine the\n",
    "# state vector and the so called light time (travel time of the light between \n",
    "# the Sun and our home planet). Positions are always given in km, velocities \n",
    "# in km/s and times in seconds\n",
    "\n",
    "# targ : Object that shall be pointed at\n",
    "# et : The ET of the computation\n",
    "# ref : The reference frame. Here, it is ECLIPJ2000 (so Medium article)\n",
    "# obs :  The observer respectively the center of our state vector computation\n",
    "EARTH_STATE_WRT_SUN, EARTH_SUN_LT = sp.spkgeo(targ=399,\n",
    "                                              et=ET_TODAY_MIDNIGHT,\n",
    "                                              ref='ECLIPJ2000',\n",
    "                                              obs=10)\n",
    "\n"
   ]
  },
  {
   "cell_type": "markdown",
   "id": "54ad6deb",
   "metadata": {},
   "source": [
    "Another kernel is missing. This time it’s an spk. Let’s have a deep dive into this problem. We go to the repository page (you do not need to download anything, since I already put it in the _kernel folder):\n",
    "\n",
    "… and go to generic_kernels https://naif.jpl.nasa.gov/pub/naif/generic_kernels/ . There we need to go into spk and then planets since we want to compute the state vector of our planet. We find the following status for today:\n",
    "\n",
    "Every folder has aa_*.txt files. Let’s check aa_summaries.txt. The file lists meta data for miscellaneous kernels. It shows which objects are computed w.r.t. which other body object. Note: Mercury’s barycentre and Venus’ barycentre are both available w.r.t. the Solar System barycentre. Thanks to simple addition SPICE can easily compute the distance between both planetary barycentres. The last line shows the time coverage. We take the file de432s.bsp, since it is quite small and covers the time interval of our interest:"
   ]
  },
  {
   "cell_type": "code",
   "execution_count": 8,
   "id": "60e342fe",
   "metadata": {},
   "outputs": [],
   "source": [
    "# load the kernel\n",
    "sp.furnsh('SpaceScienceTutorial/_kernels/spk/de440.bsp')"
   ]
  },
  {
   "cell_type": "code",
   "execution_count": 9,
   "id": "b9461a1d",
   "metadata": {},
   "outputs": [],
   "source": [
    "# recompute the vector\n",
    "EARTH_STATE_WRT_SUN, EARTH_SUN_LT = sp.spkgeo(targ=399,\n",
    "                                              et=ET_TODAY_MIDNIGHT,\n",
    "                                              ref='ECLIPJ2000',\n",
    "                                              obs=10)\n",
    "\n"
   ]
  },
  {
   "cell_type": "markdown",
   "id": "e91e0465",
   "metadata": {},
   "source": [
    "The <b>first 3</b> values are the <b>x, y, z components in km</b> and the <b>last 3</b> values are <b>corresponding velocity components in km/s</b>"
   ]
  },
  {
   "cell_type": "code",
   "execution_count": 10,
   "id": "e5912d78",
   "metadata": {},
   "outputs": [
    {
     "name": "stdout",
     "output_type": "stream",
     "text": [
      "State vector of the Earth w.r.t. the Sun for \"today\" (midnight):\n",
      " [ 1.11467816e+08 -1.02826627e+08  4.09937825e+03  1.97186044e+01\n",
      "  2.17953439e+01 -1.12621283e-03]\n"
     ]
    }
   ],
   "source": [
    "# The state vector is 6 dimensional: x,y,z in km and the corresponding\n",
    "# velocities in km/s\n",
    "print('State vector of the Earth w.r.t. the Sun for \"today\" (midnight):\\n', \\\n",
    "      EARTH_STATE_WRT_SUN)"
   ]
  },
  {
   "cell_type": "markdown",
   "id": "48851055",
   "metadata": {},
   "source": [
    "We can verify the results by using NASA’s HORIZONS Web-Interface. https://ssd.jpl.nasa.gov/horizons.cgi\n",
    "\n",
    "Another simple way to check whether our results make sense is to determine the distance between the Sun and Earth. It should be around 1 astronomical unit (1 AU). First, we compute the distance in km:\n",
    "\n",
    "The (Euclidean) distance should be around 1 AU. Why \"around\"? Well the Earth revolves the Sun in a slightly non-perfect circle (elliptic orbit). First, we compute the distance in km."
   ]
  },
  {
   "cell_type": "code",
   "execution_count": 11,
   "id": "30e11c98",
   "metadata": {},
   "outputs": [
    {
     "name": "stdout",
     "output_type": "stream",
     "text": [
      "Current distance between the Earth and the Sun in AU is:  1.0137323326545098\n"
     ]
    }
   ],
   "source": [
    "import math\n",
    "EARTH_SUN_DISTANCE = math.sqrt(EARTH_STATE_WRT_SUN[0]**2 + EARTH_STATE_WRT_SUN[1]**2 + EARTH_STATE_WRT_SUN[2]**2)\n",
    "\n",
    "# And with the SPICE function convrt (convrt doc) we can change the km values to AU (no kernel needed). The results is close to 1 AU.\n",
    "\n",
    "# Convert the distance in astronomical units (1 AU)\n",
    "# Instead of searching for the \"most recent\" value, we use the default value\n",
    "# in SPICE. This way, we can easily compare our results with the results of \n",
    "# others.\n",
    "\n",
    "EARTH_SUN_DISTANCE_AU = sp.convrt(EARTH_SUN_DISTANCE, 'km', 'AU')\n",
    "\n",
    "print('Current distance between the Earth and the Sun in AU is: ', EARTH_SUN_DISTANCE_AU)\n"
   ]
  },
  {
   "cell_type": "markdown",
   "id": "cc5df20a",
   "metadata": {},
   "source": [
    "Let’s do the last task. We compute the orbital speed of the Earth in km/s:"
   ]
  },
  {
   "cell_type": "code",
   "execution_count": 12,
   "id": "f0ad01f7",
   "metadata": {},
   "outputs": [
    {
     "name": "stdout",
     "output_type": "stream",
     "text": [
      "Current orbital speed of the Earth around the Sun in km/s:  29.39150178887623\n"
     ]
    }
   ],
   "source": [
    "EARTH_ORB_SPEED_WRT_SUN = math.sqrt(EARTH_STATE_WRT_SUN[3]**2 + EARTH_STATE_WRT_SUN[4]**2 + EARTH_STATE_WRT_SUN[5]**2)\n",
    "\n",
    "print('Current orbital speed of the Earth around the Sun in km/s: ', EARTH_ORB_SPEED_WRT_SUN)\n",
    "\n",
    "\n"
   ]
  },
  {
   "cell_type": "markdown",
   "id": "364ee673",
   "metadata": {},
   "source": [
    "The value is close to 30 km/s. But does it make sense? The theoretical expectation of the orbital velocity can be approximated with the following equation, where <b>G</b> is the <b>gravitational constant</b>, <b>M</b> is the <b>mass of the Sun</b>, and <b>r</b> is the distance between the Earth and Sun:\n",
    "\n",
    "$ V_{orb} = \\sqrt{\\frac{GM}{r}} $\n",
    "\n",
    "We use the kernel <b>gm_de431.tpc</b> from the generic_kernels directory <b>(pck)</b> and load it. With the function <b>bodvcd</b> we get the <b>G*M value</b> for the Sun (bodvcd doc). The bodyid is again 10, the required item is GM and maxn is an input parameter that sets the number of expected returns (here, it is 1):"
   ]
  },
  {
   "cell_type": "code",
   "execution_count": 13,
   "id": "7bfdec7b",
   "metadata": {},
   "outputs": [
    {
     "name": "stdout",
     "output_type": "stream",
     "text": [
      "Theoritical orbital speed of the earth around the Sun in km/s:  29.58226764257651\n"
     ]
    }
   ],
   "source": [
    "# Now let's compute the theoretical expectation. First, we load a pck file\n",
    "# that contain miscellanoeus information, like the G*M values for different\n",
    "# objects\n",
    "\n",
    "sp.furnsh('SpaceScienceTutorial/_kernels/pck/gm_de431.tpc')\n",
    "_, GM_SUN = sp.bodvcd(bodyid=10, item='GM', maxn=1)\n",
    "\n",
    "# compute the total orbital speed\n",
    "V_ORB_FUNC = lambda gm, r: math.sqrt(gm/r)\n",
    "EARTH_ORB_SPEED_WRT_SUN_THEORY = V_ORB_FUNC(GM_SUN[0], EARTH_SUN_DISTANCE)\n",
    "\n",
    "#print the result\n",
    "print('Theoritical orbital speed of the earth around the Sun in km/s: ', EARTH_ORB_SPEED_WRT_SUN_THEORY)"
   ]
  },
  {
   "cell_type": "code",
   "execution_count": null,
   "id": "f99f0050",
   "metadata": {},
   "outputs": [],
   "source": []
  }
 ],
 "metadata": {
  "kernelspec": {
   "display_name": "space",
   "language": "python",
   "name": "space"
  },
  "language_info": {
   "codemirror_mode": {
    "name": "ipython",
    "version": 3
   },
   "file_extension": ".py",
   "mimetype": "text/x-python",
   "name": "python",
   "nbconvert_exporter": "python",
   "pygments_lexer": "ipython3",
   "version": "3.9.4"
  }
 },
 "nbformat": 4,
 "nbformat_minor": 5
}
