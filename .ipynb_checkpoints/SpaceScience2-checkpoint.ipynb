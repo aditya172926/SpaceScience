{
 "cells": [
  {
   "cell_type": "markdown",
   "id": "a44a7e17",
   "metadata": {},
   "source": [
    "# Kepler's First Law\n",
    "<i>The orbit of a planet is an ellipse with the Sun at one of the 2 foci</i>\n",
    "\n",
    "This is the first of 3 Kepler's laws of planetary motion. Technically the Sun is not exactly the center of universe, it also revolves around a common center of gravity. Sun contains over 99% of the Solar System's mass. So it is possible movement of the so-called <b>Solar System Barycentre (SSB)</b> with respect to Sun's centre, but is it that significant? \n",
    "\n",
    "## Preparation\n",
    "Last time we learned about SPICE and its way to compute miscellaneous parameters using so called kernels. We loaded the necessary kernels using the SPICE function furnsh. Each kernel was loaded individually. However, larger projects may require to load dozens of kernels. That would bloat our Python code and one could easily lose track of one’s code. To prevent this, SPICE introduced the kernel meta files. A meta file contains the relative or absolute paths to the needed kernels. For this tutorial, each part has its own meta file that sets the relative path to the _kernels directory.\n",
    "\n",
    "The first 6 lines start with the command \\begintext. The following text block is a comment section, where one can add up any project relevant information. The last block starts with \\begindata. This indicates SPICE that all following parts are relevant for the coding part. KERNELS_TO_LOAD lists all kernel files that are used in this tutorial part. <b>Please note</b>: <u>If you load kernels that contain similar information (e.g., by accident you load first the naif0012.tls leap seconds kernel and afterwards the naif0011.tls kernel), SPICE considers the order and takes the last one.</u>"
   ]
  },
  {
   "cell_type": "code",
   "execution_count": 1,
   "id": "4f522895",
   "metadata": {},
   "outputs": [],
   "source": [
    "import numpy as np\n",
    "import spiceypy as sp\n",
    "import datetime as dt\n",
    "\n",
    "#Load the SPICE kernels via a meta file\n",
    "# sp.furnsh('kernel_meta2.txt')\n",
    "sp.furnsh('_kernels/lsk/naif0012.tls')"
   ]
  },
  {
   "cell_type": "code",
   "execution_count": 2,
   "id": "fd3a13f2",
   "metadata": {},
   "outputs": [],
   "source": [
    "sp.furnsh('_kernels/spk/de440.bsp')\n",
    "sp.furnsh('_kernels/pck/pck00010.tpc')"
   ]
  },
  {
   "cell_type": "markdown",
   "id": "4511f108",
   "metadata": {},
   "source": [
    "For the position computation we need to set a starting/initial and ending time-stamp. Here we set the date 2000-01-01 (midnight) UTC and add up 10,000 days (Around 27.5 years; this value is chosen at random). These computations can be done by Python library datetime. Afterwards, the initial and ending times are converted to strings. Finally UTC strings are converted to the corresponding Ephemeris times.\n",
    "\n",
    "We want to compute the <b>Solar System barycenter (SSB)</b> w.r.t the centre of the Sun for a certain time interval."
   ]
  },
  {
   "cell_type": "code",
   "execution_count": 8,
   "id": "e453ae3b",
   "metadata": {},
   "outputs": [
    {
     "name": "stdout",
     "output_type": "stream",
     "text": [
      "Init time in UTC: 2000-01-01T00:00:00\n",
      "End time in UTC: 2027-05-19T00:00:00\n",
      "\n",
      "Init time in ET: -43135.816087188054\n",
      "End time in ET: 863956869.1851972\n",
      "\n"
     ]
    }
   ],
   "source": [
    "# we want to compute the Solar System barycenter (SSB) w.r.t the centre of the Sun for a certain time interval.\n",
    "# Firse we set an initial time in UTC.\n",
    "INIT_TIME_UTC = dt.datetime(year=2000, month=1, day=1, hour=0, minute=0, second=0)\n",
    "\n",
    "# Add the number of days we can play around with the datetime variables\n",
    "DELTA_DAYS = 10000\n",
    "END_TIME_UTC = INIT_TIME_UTC + dt.timedelta(days=DELTA_DAYS)\n",
    "\n",
    "# convert the datetime objects now to strings\n",
    "INIT_TIME_UTC_STR = INIT_TIME_UTC.strftime('%Y-%m-%dT%H:%M:%S')\n",
    "END_TIME_UTC_STR = END_TIME_UTC.strftime('%Y-%m-%dT%H:%M:%S')\n",
    "\n",
    "# print the starting and end times\n",
    "print('Init time in UTC: %s' % INIT_TIME_UTC_STR)\n",
    "print('End time in UTC: %s\\n' % END_TIME_UTC_STR)\n",
    "\n",
    "# Convert to Ephemeris Time (ET) using the spice function utc2et\n",
    "INIT_TIME_ET = sp.utc2et(INIT_TIME_UTC_STR)\n",
    "END_TIME_ET = sp.utc2et(END_TIME_UTC_STR)\n",
    "\n",
    "print('Init time in ET: %s' % INIT_TIME_ET)\n",
    "print('End time in ET: %s\\n' % END_TIME_ET)\n"
   ]
  },
  {
   "cell_type": "markdown",
   "id": "9118c85b",
   "metadata": {},
   "source": [
    "Why are <b>leap-seconds kernels</b> necessary? A day has 24 hours, a year has 365 days and every 4 years another day is added. This applied to our everyday life. From a detailed scientific point of view our Earth revolves around itself and around the Sun in <b>slightly varying times</b> that need to be compensated. How much time is added in this 10,000 days interval starting at the millennium?\n",
    "\n",
    "A day has <b>86,400 seconds</b>. This value times 10,000 days leads to <b>864,000,000 seconds</b>. Subtracting the initial time in ET from the ending time in ET leads to <b>864,000,005.0012845 seconds</b>. Approximately 5 seconds have been added. This might not be crutial right now, but for some high precision scientific fields every milisecond counts.\n",
    "\n",
    "We finally set a NumPy array that contains 10,000 time steps between the starting and ending times.\n",
    "\n",
    "A day has 86400 seconds (24 hours * 60 minutes * 60 seconds)\n",
    "In our example, we set a time period of 10000 days. Thus, we expect the difference between INIT_TIME_ET and END_TIME_ET to be 10000*86400 seconds. Let's have a look at the delta."
   ]
  },
  {
   "cell_type": "code",
   "execution_count": 4,
   "id": "c23a2d4b",
   "metadata": {},
   "outputs": [
    {
     "name": "stdout",
     "output_type": "stream",
     "text": [
      "Covered time interval in seconds: 864000005.0012845\n",
      "\n"
     ]
    }
   ],
   "source": [
    "# A day has 86400 seconds (24 hours * 60 minutes * 60 seconds)\n",
    "# In our example, we set a time period of 10000 days. Thus, we expect the\n",
    "# difference between INIT_TIME_ET and END_TIME_ET to be 10000*86400 seconds\n",
    "# Let's have a look at the delta.\n",
    "\n",
    "print('Covered time interval in seconds: %s\\n' % (END_TIME_ET - INIT_TIME_ET))\n",
    "# we see that approx 5 seconds are added in this (leapseconds)"
   ]
  },
  {
   "cell_type": "code",
   "execution_count": 5,
   "id": "b349818d",
   "metadata": {},
   "outputs": [],
   "source": [
    "# Create a numpy array that covers a time interval in delta=1 day step\n",
    "TIME_INTERVAL_ET = np.linspace(INIT_TIME_ET, END_TIME_ET, DELTA_DAYS)\n"
   ]
  },
  {
   "cell_type": "code",
   "execution_count": 6,
   "id": "958b4dd5",
   "metadata": {},
   "outputs": [
    {
     "data": {
      "text/plain": [
       "10000"
      ]
     },
     "execution_count": 6,
     "metadata": {},
     "output_type": "execute_result"
    }
   ],
   "source": [
    "len(TIME_INTERVAL_ET)"
   ]
  },
  {
   "cell_type": "markdown",
   "id": "6e054140",
   "metadata": {},
   "source": [
    "Now we are ready yo compute the Solar System Barycentre (SSB) position in x,y,z direction with respect to the Sun's centre. For this purpose, we compute the position using SPICE function <b>spkgps</b> (in the last tutorial we used a similar function <u><i>spkgeo</i></u> that returns the state vector (position and velocity)).\n",
    "<br>\n",
    "\n",
    "This function requires the following input parameters:\n",
    "\n",
    "1. targ: The NAIF ID of the <b>SSB (0)</b>. The sophisticated SPICE documentation lists all the available ID codes of the Solar System as well as spacecraft missions.\n",
    "2. et: The Ephermeris time\n",
    "3. ref: The reference frame of interest. In our case we compute the position in <b>ECLIPJ2000</b>. So, the ecliptic plane of our home planet is the reference plane.\n",
    "3. obs: The NAIF ID of the <b>Sun (10)</b>.\n",
    "\n",
    "<i><b>spkgps</b></i> returns the position of the SSB w.r.t the Sun at a certain Ephemeris time computed in the ECLIPJ2000 reference frame. The second output value is the so called light time and stores the travelling time of the light between the Sun's centre and SSB. Since we do not need this value, we use a single underscore."
   ]
  },
  {
   "cell_type": "code",
   "execution_count": 9,
   "id": "b80b4c1b",
   "metadata": {},
   "outputs": [],
   "source": [
    "# Now we compute the position of the Solar System's barycentre w.r.t our Sun\n",
    "# First we set an empty list that stores later all x , y, z components\n",
    "# for each time step\n",
    "\n",
    "SSB_WRT_SUN_POSITION = []\n",
    "\n",
    "# each time step is used in this for loop to compute the position of the \n",
    "# SSB w.r.t the Sun. We use the function spkgps\n",
    "for TIME_INTERVAL_ET_f in TIME_INTERVAL_ET:\n",
    "    _position, _ = sp.spkgps(targ=0, et=TIME_INTERVAL_ET_f, ref='ECLIPJ2000', obs=10)\n",
    "    \n",
    "    # Append the result to the final list\n",
    "    SSB_WRT_SUN_POSITION.append(_position)\n",
    "\n",
    "# convert the list to a numpy array\n",
    "SSB_WRT_SUN_POSITION = np.array(SSB_WRT_SUN_POSITION)"
   ]
  },
  {
   "cell_type": "markdown",
   "id": "92c730ba",
   "metadata": {},
   "source": [
    "Print the result at the initial time point to get a feeling of the x,y,z components and the distance"
   ]
  },
  {
   "cell_type": "code",
   "execution_count": 12,
   "id": "379ab2fa",
   "metadata": {},
   "outputs": [
    {
     "data": {
      "text/plain": [
       "array([1068108.35424524,  417721.9144422 ,  -30868.85962713])"
      ]
     },
     "execution_count": 12,
     "metadata": {},
     "output_type": "execute_result"
    }
   ],
   "source": [
    "SSB_WRT_SUN_POSITION[0]"
   ]
  },
  {
   "cell_type": "code",
   "execution_count": 11,
   "id": "76d4366d",
   "metadata": {
    "scrolled": true
   },
   "outputs": [
    {
     "data": {
      "text/plain": [
       "10000"
      ]
     },
     "execution_count": 11,
     "metadata": {},
     "output_type": "execute_result"
    }
   ],
   "source": [
    "len(SSB_WRT_SUN_POSITION)"
   ]
  },
  {
   "cell_type": "code",
   "execution_count": 13,
   "id": "307621c0",
   "metadata": {},
   "outputs": [
    {
     "name": "stdout",
     "output_type": "stream",
     "text": [
      "Position (components) of the Solar System Barycentre w.r.t the\n",
      " center of the Sun (at initial time): \n",
      " X = 1068108.0 km\n",
      " Y = 417722.0 km\n",
      " Z = -30869.0 km\n",
      "\n",
      "Distance between the Solar System Barycentre w.r.t the\n",
      " center of the Sun (at initial time): \n",
      " d = 1147301 km\n",
      "\n"
     ]
    }
   ],
   "source": [
    "print('Position (components) of the Solar System Barycentre w.r.t the\\n center of the Sun (at initial time): \\n X = %s km\\n Y = %s km\\n Z = %s km\\n' % tuple(np.round(SSB_WRT_SUN_POSITION[0])))\n",
    "\n",
    "# lets determine and print the corresponding distance using the numpy function linalg.norm()\n",
    "print('Distance between the Solar System Barycentre w.r.t the\\n center of the Sun (at initial time): \\n d = %s km\\n' % round(np.linalg.norm(SSB_WRT_SUN_POSITION[0])))"
   ]
  },
  {
   "cell_type": "markdown",
   "id": "92de5153",
   "metadata": {},
   "source": [
    "Wedid get some large numbers. A distance betwee the Sun's centre and the SSB of over 1 million km ( around 3 times the distance between the Earth and the Moon).\n",
    "\n",
    "Comprehending the large numbers in astronomy leads mostly to scaling, like eg 1 Astronomical Unit (AU) or 1 Light year. <u>Here we can define our own scale by using the radius of the Sun (around 700,000 km)</u>. The Sun's radius can be extracted from the corresponding SPICE kernel.\n",
    "\n",
    "Before we go into the programming part we need to answer another question. <i>What is the radius of the Sun?</i> It is somehow connected to the surface, but what is the surface of huge plasma ball."
   ]
  },
  {
   "cell_type": "code",
   "execution_count": null,
   "id": "4884f46c",
   "metadata": {},
   "outputs": [],
   "source": []
  }
 ],
 "metadata": {
  "kernelspec": {
   "display_name": "space",
   "language": "python",
   "name": "space"
  },
  "language_info": {
   "codemirror_mode": {
    "name": "ipython",
    "version": 3
   },
   "file_extension": ".py",
   "mimetype": "text/x-python",
   "name": "python",
   "nbconvert_exporter": "python",
   "pygments_lexer": "ipython3",
   "version": "3.9.4"
  }
 },
 "nbformat": 4,
 "nbformat_minor": 5
}
