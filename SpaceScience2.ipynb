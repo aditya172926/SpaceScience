{
 "cells": [
  {
   "cell_type": "markdown",
   "id": "a44a7e17",
   "metadata": {},
   "source": [
    "# Kepler's First Law\n",
    "<i>The orbit of a planet is an ellipse with the Sun at one of the 2 foci</i>\n",
    "\n",
    "This is the first of 3 Kepler's laws of planetary motion. Technically the Sun is not exactly the center of universe, it also revolves around a common center of gravity. Sun contains over 99% of the Solar System's mass. So it is possible movement of the so-called <b>Solar System Barycentre (SSB)</b> with respect to Sun's centre, but is it that significant? \n",
    "\n",
    "## Preparation\n",
    "Last time we learned about SPICE and its way to compute miscellaneous parameters using so called kernels. We loaded the necessary kernels using the SPICE function furnsh. Each kernel was loaded individually. However, larger projects may require to load dozens of kernels. That would bloat our Python code and one could easily lose track of one’s code. To prevent this, SPICE introduced the kernel meta files. A meta file contains the relative or absolute paths to the needed kernels. For this tutorial, each part has its own meta file that sets the relative path to the _kernels directory.\n",
    "\n",
    "The first 6 lines start with the command \\begintext. The following text block is a comment section, where one can add up any project relevant information. The last block starts with \\begindata. This indicates SPICE that all following parts are relevant for the coding part. KERNELS_TO_LOAD lists all kernel files that are used in this tutorial part. <b>Please note</b>: <u>If you load kernels that contain similar information (e.g., by accident you load first the naif0012.tls leap seconds kernel and afterwards the naif0011.tls kernel), SPICE considers the order and takes the last one.</u>"
   ]
  },
  {
   "cell_type": "code",
   "execution_count": 4,
   "id": "4f522895",
   "metadata": {},
   "outputs": [],
   "source": [
    "import numpy as np\n",
    "import spiceypy as sp\n",
    "import datetime as dt\n",
    "\n",
    "#Load the SPICE kernels via a meta file\n",
    "sp.furnsh('kernel_meta2')"
   ]
  },
  {
   "cell_type": "code",
   "execution_count": null,
   "id": "560898f7",
   "metadata": {},
   "outputs": [],
   "source": []
  }
 ],
 "metadata": {
  "kernelspec": {
   "display_name": "space",
   "language": "python",
   "name": "space"
  },
  "language_info": {
   "codemirror_mode": {
    "name": "ipython",
    "version": 3
   },
   "file_extension": ".py",
   "mimetype": "text/x-python",
   "name": "python",
   "nbconvert_exporter": "python",
   "pygments_lexer": "ipython3",
   "version": "3.9.4"
  }
 },
 "nbformat": 4,
 "nbformat_minor": 5
}
